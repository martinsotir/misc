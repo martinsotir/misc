{
  "nbformat": 4,
  "nbformat_minor": 0,
  "metadata": {
    "colab": {
      "name": "advent_of_code_2018_day7.ipynb",
      "provenance": [],
      "collapsed_sections": [],
      "include_colab_link": true
    },
    "kernelspec": {
      "name": "python3",
      "display_name": "Python 3"
    }
  },
  "cells": [
    {
      "cell_type": "markdown",
      "metadata": {
        "id": "view-in-github",
        "colab_type": "text"
      },
      "source": [
        "<a href=\"https://colab.research.google.com/github/martinsotir/misc/blob/master/notebooks/2018-12-07-advent_of_code_18_day7_with_OR-Tools.ipynb\" target=\"_parent\"><img src=\"https://colab.research.google.com/assets/colab-badge.svg\" alt=\"Open In Colab\"/></a>"
      ]
    },
    {
      "cell_type": "markdown",
      "metadata": {
        "id": "5Vtdg0h9Ehya",
        "colab_type": "text"
      },
      "source": [
        "## Day 7 - Task scheduling with OR-Tools"
      ]
    },
    {
      "cell_type": "code",
      "metadata": {
        "id": "ssxJlF69ErOz",
        "colab_type": "code",
        "colab": {}
      },
      "source": [
        "!pip install -U ortools==6.10.6025"
      ],
      "execution_count": 0,
      "outputs": []
    },
    {
      "cell_type": "code",
      "metadata": {
        "id": "4U0ifBGSYHNz",
        "colab_type": "code",
        "colab": {}
      },
      "source": [
        "from ortools.sat.python import cp_model\n",
        "import numpy as np\n",
        "import re\n",
        "import collections\n",
        "import pandas as pd"
      ],
      "execution_count": 0,
      "outputs": []
    },
    {
      "cell_type": "code",
      "metadata": {
        "id": "apwJbfrPENl6",
        "colab_type": "code",
        "colab": {}
      },
      "source": [
        "def day_7_part1(instructions):\n",
        "\n",
        "  # Convert instructions to (first, second) integer pairs:\n",
        "  instr_re = re.compile('Step (\\w+) must be finished before step (\\w+) can begin\\.')\n",
        "  order_constraints = [list(map(ord, instr_re.match(line).groups())) for line in instructions.strip().splitlines()]\n",
        "  \n",
        "  # Job list infered from instructions\n",
        "  jobs = {x for pair in order_constraints for x in pair}\n",
        "  \n",
        "  model = cp_model.CpModel()\n",
        "  job_positions = {job: model.NewIntVar(0, len(jobs), f\"pos_job#{chr(job)}\") for job in sorted(jobs)}  \n",
        "  \n",
        "  # Important: try to enforce a greedy task priority using decision strategy (not sure if it's right):\n",
        "  model.AddDecisionStrategy([job_positions[job] for job in sorted(jobs)], cp_model.CHOOSE_LOWEST_MIN, cp_model.SELECT_MIN_VALUE)\n",
        "  \n",
        "  # No overlap:\n",
        "  model.AddAllDifferent(list(job_positions.values()))\n",
        "  \n",
        "  # Hard constraints for precedences:\n",
        "  for (first, second) in order_constraints:\n",
        "    model.Add(job_positions[first] < job_positions[second])\n",
        "    \n",
        "  solver = cp_model.CpSolver()\n",
        "  \n",
        "  solver.parameters.search_branching = cp_model.FIXED_SEARCH  # Required to enforce decision strategy\n",
        "\n",
        "  status = solver.Solve(model)\n",
        "  print('Status: ' + solver.StatusName(status))\n",
        "  \n",
        "  return ''.join(map(chr, sorted(job_positions, key=lambda x: solver.Value(job_positions[x]))))"
      ],
      "execution_count": 0,
      "outputs": []
    },
    {
      "cell_type": "code",
      "metadata": {
        "id": "DOiD2fGinPov",
        "colab_type": "code",
        "colab": {}
      },
      "source": [
        "instructions = \"\"\"\n",
        "Step C must be finished before step A can begin.\n",
        "Step C must be finished before step F can begin.\n",
        "Step A must be finished before step B can begin.\n",
        "Step A must be finished before step D can begin.\n",
        "Step B must be finished before step E can begin.\n",
        "Step D must be finished before step E can begin.\n",
        "Step F must be finished before step E can begin.\n",
        "\"\"\""
      ],
      "execution_count": 0,
      "outputs": []
    },
    {
      "cell_type": "code",
      "metadata": {
        "id": "7WsAFBTWnQrH",
        "colab_type": "code",
        "outputId": "7bafeb4c-7cae-42c3-f763-91a4a18e4f39",
        "colab": {
          "base_uri": "https://localhost:8080/",
          "height": 50
        }
      },
      "source": [
        "day_7_part1(instructions)\n",
        "#day_7_part1(open('input.txt').read())"
      ],
      "execution_count": 0,
      "outputs": [
        {
          "output_type": "stream",
          "text": [
            "Status: FEASIBLE\n"
          ],
          "name": "stdout"
        },
        {
          "output_type": "execute_result",
          "data": {
            "text/plain": [
              "'CABDFE'"
            ]
          },
          "metadata": {
            "tags": []
          },
          "execution_count": 5
        }
      ]
    },
    {
      "cell_type": "code",
      "metadata": {
        "id": "dKYrl9YexiJP",
        "colab_type": "code",
        "colab": {}
      },
      "source": [
        "def day_7_part2(instructions, nb_elfs, min_task_duration):\n",
        "\n",
        "  # Convert instructions to (first, second) integer pairs:\n",
        "  instr_re = re.compile('Step (\\w+) must be finished before step (\\w+) can begin\\.')\n",
        "  order_constraints = [list(map(ord, instr_re.match(line).groups())) for line in instructions.strip().splitlines()]\n",
        "\n",
        "  # Job list infered from instructions\n",
        "  jobs = list(sorted({x for pair in order_constraints for x in pair}))\n",
        "\n",
        "  # Compute job duration from position in alphabet\n",
        "  jobs_duration = {job: min_task_duration + job - ord('A') + 1 for job in jobs}\n",
        "  \n",
        "  model = cp_model.CpModel()\n",
        "  \n",
        "  # Boolean task assigment matrix (elf x task)\n",
        "  assigments = {(e, j) : model.NewBoolVar(f\"E{e}_task#{chr(j)}\") for e in range(nb_elfs) for j in jobs}\n",
        "  \n",
        "  # Each task assigned to one and only one elf:\n",
        "  for j in jobs:\n",
        "    model.AddSumConstraint([assigments[e, j] for e in range(nb_elfs)], 1, 1)\n",
        "    \n",
        "  # Worst case makespan:\n",
        "  horizon = sum(jobs_duration.values())\n",
        "  min_duration = min(jobs_duration.values())\n",
        "  \n",
        "  # For each elf, for each task, create optional interval variables:\n",
        "  Task = collections.namedtuple('Task', 'start, end, interval')\n",
        "  \n",
        "  all_tasks = {}\n",
        "  for e in range(nb_elfs):\n",
        "    for job in jobs:\n",
        "      start = model.NewIntVar(0, horizon - min_duration + 1, f'E{e}_start_{chr(job)}')\n",
        "      end = model.NewIntVar(min_duration, horizon, f'E{e}_end_{chr(job)}')\n",
        "      # model.Add(end == (start + jobs_duration[job])) ##not required, even slower when added!\n",
        "      interval = model.NewOptionalIntervalVar(start, jobs_duration[job], end, assigments[(e, job)],  f'E{e}_start_{chr(job)}')\n",
        "      all_tasks[job, e] = Task(start=start, end=end, interval=interval)\n",
        "      \n",
        "  # One task at once for each elf:\n",
        "  for e in range(nb_elfs):\n",
        "    model.AddNoOverlap([all_tasks[(j,e)].interval for j in jobs])\n",
        "    \n",
        "  # Precedences constraints:\n",
        "  for (first, second) in order_constraints:\n",
        "    for e1 in range(nb_elfs):\n",
        "      for e2 in range(nb_elfs):\n",
        "        model.Add(all_tasks[second, e2].start >= all_tasks[first, e1].end).OnlyEnforceIf(assigments[e1, first])\n",
        "          \n",
        "  # Makespan objective (= minimize total duration).\n",
        "  makespan = model.NewIntVar(0, horizon, 'makespan')\n",
        "  for j, e in all_tasks:\n",
        "    model.Add(all_tasks[j, e].end <= makespan).OnlyEnforceIf(assigments[e, j])\n",
        "    \n",
        "  #model.AddDecisionStrategy([all_tasks[job, e].start for e in range(nb_elfs) for job in sorted(jobs) ], cp_model.CHOOSE_LOWEST_MIN, cp_model.SELECT_MIN_VALUE)\n",
        "    \n",
        "  model.Minimize(makespan)\n",
        "  \n",
        "  # Solve model\n",
        "  solver = cp_model.CpSolver()\n",
        "  solver.num_search_workers = 2\n",
        "  #solver.parameters.search_branching = cp_model.FIXED_SEARCH  # Required to enforce decision strategy\n",
        "  #status = solver.Solve(model)\n",
        "  solution_printer = cp_model.ObjectiveSolutionPrinter()\n",
        "  status = solver.SolveWithSolutionCallback(model, solution_printer)\n",
        "  \n",
        "  print('Status: ' + solver.StatusName(status))\n",
        "  print(f\"Time: {solver.WallTime() * 1000:.2f} ms\")\n",
        "  print('Makespan: %i' % solver.Value(makespan))\n",
        "  \n",
        "  df_assigments = pd.DataFrame({chr(j) : [assigments[e, j] for e in range(nb_elfs)] for j in jobs}).applymap(solver.Value)\n",
        "  df_starts = pd.DataFrame(all_tasks, index=Task._fields).T['start'].unstack(0).rename(columns=chr).applymap(solver.Value).where(df_assigments!=0)\n",
        "  \n",
        "  return solver.Value(makespan), df_assigments, df_starts"
      ],
      "execution_count": 0,
      "outputs": []
    },
    {
      "cell_type": "code",
      "metadata": {
        "id": "oSLBTTiLWr5g",
        "colab_type": "code",
        "outputId": "1f17c823-6dd9-4a49-9300-21a6c6db5dc1",
        "colab": {
          "base_uri": "https://localhost:8080/",
          "height": 207
        }
      },
      "source": [
        "total_time, df_assigments, df_starts = day_7_part2(instructions, nb_elfs=2, min_task_duration=0)\n",
        "#total_time, df_assigments, df_starts = day_7_part2(open('input.txt').read(), nb_elfs=2, min_task_duration=0)\n",
        "df_starts"
      ],
      "execution_count": 0,
      "outputs": [
        {
          "output_type": "stream",
          "text": [
            "Solution 0, time = 0.004150 s, objective = [21, 14]\n",
            "Solution 1, time = 0.005888 s, objective = [17, 14]\n",
            "Solution 2, time = 0.006964 s, objective = [15, 14]\n",
            "Status: OPTIMAL\n",
            "Time: 6.55 ms\n",
            "Makespan: 15\n"
          ],
          "name": "stdout"
        },
        {
          "output_type": "execute_result",
          "data": {
            "text/html": [
              "<div>\n",
              "<style scoped>\n",
              "    .dataframe tbody tr th:only-of-type {\n",
              "        vertical-align: middle;\n",
              "    }\n",
              "\n",
              "    .dataframe tbody tr th {\n",
              "        vertical-align: top;\n",
              "    }\n",
              "\n",
              "    .dataframe thead th {\n",
              "        text-align: right;\n",
              "    }\n",
              "</style>\n",
              "<table border=\"1\" class=\"dataframe\">\n",
              "  <thead>\n",
              "    <tr style=\"text-align: right;\">\n",
              "      <th></th>\n",
              "      <th>A</th>\n",
              "      <th>B</th>\n",
              "      <th>C</th>\n",
              "      <th>D</th>\n",
              "      <th>E</th>\n",
              "      <th>F</th>\n",
              "    </tr>\n",
              "  </thead>\n",
              "  <tbody>\n",
              "    <tr>\n",
              "      <th>0</th>\n",
              "      <td>3.0</td>\n",
              "      <td>4.0</td>\n",
              "      <td>0.0</td>\n",
              "      <td>6.0</td>\n",
              "      <td>NaN</td>\n",
              "      <td>NaN</td>\n",
              "    </tr>\n",
              "    <tr>\n",
              "      <th>1</th>\n",
              "      <td>NaN</td>\n",
              "      <td>NaN</td>\n",
              "      <td>NaN</td>\n",
              "      <td>NaN</td>\n",
              "      <td>10.0</td>\n",
              "      <td>3.0</td>\n",
              "    </tr>\n",
              "  </tbody>\n",
              "</table>\n",
              "</div>"
            ],
            "text/plain": [
              "     A    B    C    D     E    F\n",
              "0  3.0  4.0  0.0  6.0   NaN  NaN\n",
              "1  NaN  NaN  NaN  NaN  10.0  3.0"
            ]
          },
          "metadata": {
            "tags": []
          },
          "execution_count": 13
        }
      ]
    },
    {
      "cell_type": "code",
      "metadata": {
        "id": "ZcwaMI1m37vO",
        "colab_type": "code",
        "cellView": "form",
        "colab": {}
      },
      "source": [
        "#@title\n",
        "large_instructions = \"\"\"\n",
        "Step G must be finished before step L can begin.\n",
        "Step X must be finished before step U can begin.\n",
        "Step W must be finished before step H can begin.\n",
        "Step M must be finished before step S can begin.\n",
        "Step Z must be finished before step N can begin.\n",
        "Step K must be finished before step U can begin.\n",
        "Step V must be finished before step B can begin.\n",
        "Step L must be finished before step P can begin.\n",
        "Step U must be finished before step S can begin.\n",
        "Step D must be finished before step Q can begin.\n",
        "Step C must be finished before step Q can begin.\n",
        "Step O must be finished before step N can begin.\n",
        "Step E must be finished before step P can begin.\n",
        "Step J must be finished before step Q can begin.\n",
        "Step R must be finished before step A can begin.\n",
        "Step P must be finished before step Q can begin.\n",
        "Step H must be finished before step F can begin.\n",
        "Step I must be finished before step Y can begin.\n",
        "Step F must be finished before step T can begin.\n",
        "Step T must be finished before step Q can begin.\n",
        "Step S must be finished before step B can begin.\n",
        "Step A must be finished before step N can begin.\n",
        "Step B must be finished before step N can begin.\n",
        "Step Q must be finished before step Y can begin.\n",
        "Step N must be finished before step Y can begin.\n",
        "Step G must be finished before step S can begin.\n",
        "Step S must be finished before step Q can begin.\n",
        "Step A must be finished before step Y can begin.\n",
        "Step Q must be finished before step N can begin.\n",
        "Step Z must be finished before step K can begin.\n",
        "Step F must be finished before step A can begin.\n",
        "Step F must be finished before step Q can begin.\n",
        "Step M must be finished before step V can begin.\n",
        "Step B must be finished before step Y can begin.\n",
        "Step A must be finished before step Q can begin.\n",
        "Step F must be finished before step B can begin.\n",
        "Step S must be finished before step N can begin.\n",
        "Step G must be finished before step B can begin.\n",
        "Step C must be finished before step T can begin.\n",
        "Step Z must be finished before step D can begin.\n",
        "Step P must be finished before step N can begin.\n",
        "Step Z must be finished before step P can begin.\n",
        "Step K must be finished before step O can begin.\n",
        "Step R must be finished before step P can begin.\n",
        "Step J must be finished before step R can begin.\n",
        "Step W must be finished before step B can begin.\n",
        "Step T must be finished before step S can begin.\n",
        "Step M must be finished before step B can begin.\n",
        "Step K must be finished before step B can begin.\n",
        "Step I must be finished before step S can begin.\n",
        "Step H must be finished before step A can begin.\n",
        "Step O must be finished before step J can begin.\n",
        "Step H must be finished before step I can begin.\n",
        "Step I must be finished before step N can begin.\n",
        "Step D must be finished before step J can begin.\n",
        "Step P must be finished before step B can begin.\n",
        "Step T must be finished before step N can begin.\n",
        "Step D must be finished before step A can begin.\n",
        "Step M must be finished before step D can begin.\n",
        "Step R must be finished before step I can begin.\n",
        "Step U must be finished before step Y can begin.\n",
        "Step P must be finished before step S can begin.\n",
        "Step R must be finished before step B can begin.\n",
        "Step G must be finished before step C can begin.\n",
        "Step U must be finished before step C can begin.\n",
        "Step O must be finished before step F can begin.\n",
        "Step Z must be finished before step E can begin.\n",
        "Step B must be finished before step Q can begin.\n",
        "Step E must be finished before step J can begin.\n",
        "Step X must be finished before step B can begin.\n",
        "Step O must be finished before step A can begin.\n",
        "Step H must be finished before step Y can begin.\n",
        "Step T must be finished before step Y can begin.\n",
        "Step U must be finished before step H can begin.\n",
        "Step A must be finished before step B can begin.\n",
        "Step D must be finished before step Y can begin.\n",
        "Step X must be finished before step D can begin.\n",
        "Step V must be finished before step U can begin.\n",
        "Step L must be finished before step J can begin.\n",
        "Step G must be finished before step X can begin.\n",
        "Step Z must be finished before step J can begin.\n",
        "Step L must be finished before step R can begin.\n",
        "Step U must be finished before step F can begin.\n",
        "Step O must be finished before step S can begin.\n",
        "Step F must be finished before step S can begin.\n",
        "Step C must be finished before step F can begin.\n",
        "Step L must be finished before step I can begin.\n",
        "Step C must be finished before step I can begin.\n",
        "Step P must be finished before step Y can begin.\n",
        "Step R must be finished before step H can begin.\n",
        "Step P must be finished before step I can begin.\n",
        "Step J must be finished before step B can begin.\n",
        "Step D must be finished before step S can begin.\n",
        "Step C must be finished before step E can begin.\n",
        "Step W must be finished before step J can begin.\n",
        "Step D must be finished before step T can begin.\n",
        "Step G must be finished before step D can begin.\n",
        "Step Z must be finished before step A can begin.\n",
        "Step U must be finished before step R can begin.\n",
        "Step P must be finished before step T can begin.\n",
        "Step C must be finished before step Y can begin.\n",
        "\"\"\""
      ],
      "execution_count": 0,
      "outputs": []
    },
    {
      "cell_type": "markdown",
      "metadata": {
        "id": "-nkg3_OV-Q7T",
        "colab_type": "text"
      },
      "source": [
        "### Large input - 2 Elfs - min_task_duration = 0"
      ]
    },
    {
      "cell_type": "code",
      "metadata": {
        "id": "Bt87wdD47fzr",
        "colab_type": "code",
        "colab": {}
      },
      "source": [
        "total_time, df_assigments, df_starts = day_7_part2(large_instructions, nb_elfs=2, min_task_duration=0)\n",
        "df_starts"
      ],
      "execution_count": 0,
      "outputs": []
    },
    {
      "cell_type": "markdown",
      "metadata": {
        "id": "sC2nmvJn-VSZ",
        "colab_type": "text"
      },
      "source": [
        "### Large input - 2 Elfs - min_task_duration = 60"
      ]
    },
    {
      "cell_type": "code",
      "metadata": {
        "id": "x5e2At-V-YdS",
        "colab_type": "code",
        "outputId": "0be6feba-3b77-4881-d790-3e80b3778094",
        "colab": {
          "base_uri": "https://localhost:8080/",
          "height": 186
        }
      },
      "source": [
        "total_time, df_assigments, df_starts = day_7_part2(large_instructions, nb_elfs=2, min_task_duration=60)\n",
        "df_starts"
      ],
      "execution_count": 0,
      "outputs": [
        {
          "output_type": "stream",
          "text": [
            "Status: OPTIMAL\n",
            "Time: 4267.32 ms\n",
            "Makespan: 1223\n"
          ],
          "name": "stdout"
        },
        {
          "output_type": "execute_result",
          "data": {
            "text/html": [
              "<div>\n",
              "<style scoped>\n",
              "    .dataframe tbody tr th:only-of-type {\n",
              "        vertical-align: middle;\n",
              "    }\n",
              "\n",
              "    .dataframe tbody tr th {\n",
              "        vertical-align: top;\n",
              "    }\n",
              "\n",
              "    .dataframe thead th {\n",
              "        text-align: right;\n",
              "    }\n",
              "</style>\n",
              "<table border=\"1\" class=\"dataframe\">\n",
              "  <thead>\n",
              "    <tr style=\"text-align: right;\">\n",
              "      <th></th>\n",
              "      <th>A</th>\n",
              "      <th>B</th>\n",
              "      <th>C</th>\n",
              "      <th>D</th>\n",
              "      <th>E</th>\n",
              "      <th>F</th>\n",
              "      <th>G</th>\n",
              "      <th>H</th>\n",
              "      <th>I</th>\n",
              "      <th>J</th>\n",
              "      <th>...</th>\n",
              "      <th>Q</th>\n",
              "      <th>R</th>\n",
              "      <th>S</th>\n",
              "      <th>T</th>\n",
              "      <th>U</th>\n",
              "      <th>V</th>\n",
              "      <th>W</th>\n",
              "      <th>X</th>\n",
              "      <th>Y</th>\n",
              "      <th>Z</th>\n",
              "    </tr>\n",
              "  </thead>\n",
              "  <tbody>\n",
              "    <tr>\n",
              "      <th>0</th>\n",
              "      <td>NaN</td>\n",
              "      <td>925.0</td>\n",
              "      <td>356.0</td>\n",
              "      <td>211.0</td>\n",
              "      <td>419.0</td>\n",
              "      <td>700.0</td>\n",
              "      <td>0.0</td>\n",
              "      <td>632.0</td>\n",
              "      <td>NaN</td>\n",
              "      <td>NaN</td>\n",
              "      <td>...</td>\n",
              "      <td>987.0</td>\n",
              "      <td>554.0</td>\n",
              "      <td>846.0</td>\n",
              "      <td>766.0</td>\n",
              "      <td>275.0</td>\n",
              "      <td>NaN</td>\n",
              "      <td>NaN</td>\n",
              "      <td>NaN</td>\n",
              "      <td>NaN</td>\n",
              "      <td>NaN</td>\n",
              "    </tr>\n",
              "    <tr>\n",
              "      <th>1</th>\n",
              "      <td>843.0</td>\n",
              "      <td>NaN</td>\n",
              "      <td>NaN</td>\n",
              "      <td>NaN</td>\n",
              "      <td>NaN</td>\n",
              "      <td>NaN</td>\n",
              "      <td>NaN</td>\n",
              "      <td>NaN</td>\n",
              "      <td>773.0</td>\n",
              "      <td>484.0</td>\n",
              "      <td>...</td>\n",
              "      <td>NaN</td>\n",
              "      <td>NaN</td>\n",
              "      <td>NaN</td>\n",
              "      <td>NaN</td>\n",
              "      <td>NaN</td>\n",
              "      <td>170.0</td>\n",
              "      <td>252.0</td>\n",
              "      <td>86.0</td>\n",
              "      <td>1138.0</td>\n",
              "      <td>0.0</td>\n",
              "    </tr>\n",
              "  </tbody>\n",
              "</table>\n",
              "<p>2 rows × 26 columns</p>\n",
              "</div>"
            ],
            "text/plain": [
              "       A      B      C      D      E      F    G      H      I      J ...   \\\n",
              "0    NaN  925.0  356.0  211.0  419.0  700.0  0.0  632.0    NaN    NaN ...    \n",
              "1  843.0    NaN    NaN    NaN    NaN    NaN  NaN    NaN  773.0  484.0 ...    \n",
              "\n",
              "       Q      R      S      T      U      V      W     X       Y    Z  \n",
              "0  987.0  554.0  846.0  766.0  275.0    NaN    NaN   NaN     NaN  NaN  \n",
              "1    NaN    NaN    NaN    NaN    NaN  170.0  252.0  86.0  1138.0  0.0  \n",
              "\n",
              "[2 rows x 26 columns]"
            ]
          },
          "metadata": {
            "tags": []
          },
          "execution_count": 10
        }
      ]
    },
    {
      "cell_type": "markdown",
      "metadata": {
        "id": "wNpKd6K2-ZGj",
        "colab_type": "text"
      },
      "source": [
        "### Large input - 5 Elfs - min_task_duration = 60"
      ]
    },
    {
      "cell_type": "code",
      "metadata": {
        "id": "J3CraPom819O",
        "colab_type": "code",
        "colab": {}
      },
      "source": [
        "total_time, df_assigments, df_starts = day_7_part2(large_instructions, nb_elfs=5, min_task_duration=60) # should return 1105\n",
        "df_starts"
      ],
      "execution_count": 0,
      "outputs": []
    },
    {
      "cell_type": "code",
      "metadata": {
        "id": "DqC3MLd-W1if",
        "colab_type": "code",
        "colab": {}
      },
      "source": [
        ""
      ],
      "execution_count": 0,
      "outputs": []
    }
  ]
}